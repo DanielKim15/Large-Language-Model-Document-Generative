{
 "cells": [
  {
   "cell_type": "code",
   "execution_count": 2,
   "metadata": {},
   "outputs": [
    {
     "name": "stdout",
     "output_type": "stream",
     "text": [
      "Fake PII data generated and saved to fake_pii_data_unlabeled_training.txt.\n"
     ]
    }
   ],
   "source": [
    "from faker import Faker\n",
    "\n",
    "# Create a Faker instance\n",
    "fake = Faker()\n",
    "\n",
    "# Function to generate a single record of fake PII data as a string\n",
    "def generate_pii_data_string():\n",
    "    # Generate various pieces of data\n",
    "    dob_str = fake.date_of_birth().isoformat()\n",
    "    data_pieces = [\n",
    "        fake.name(),\n",
    "        fake.address(),\n",
    "        fake.email(),\n",
    "        fake.phone_number(),\n",
    "        fake.ssn(),\n",
    "        fake.license_plate(),\n",
    "        fake.bothify(text='????########', letters='ABCDEFGHIJKLMNOPQRSTUVWXYZ'),\n",
    "        fake.credit_card_full(),\n",
    "        fake.bban(),\n",
    "        fake.company(),\n",
    "        fake.job(),\n",
    "        fake.user_name(),\n",
    "        fake.password(),\n",
    "        fake.url(),\n",
    "        dob_str,\n",
    "        fake.text(max_nb_chars=20),\n",
    "        fake.text(max_nb_chars=20),\n",
    "        f\"{fake.latitude()}, {fake.longitude()}\",\n",
    "        fake.text(max_nb_chars=100),\n",
    "        fake.isbn13()\n",
    "    ]\n",
    "\n",
    "    # Combine the pieces into one string, separated by some delimiter (e.g., \", \")\n",
    "    return \", \".join(data_pieces)\n",
    "\n",
    "# Generate multiple records\n",
    "num_records = 200  # You can change this to generate more records\n",
    "data_strings = [generate_pii_data_string() for _ in range(num_records)]\n",
    "\n",
    "# Output the data to a TXT file\n",
    "with open('/Users/dkim1998/Downloads/fake_pii_data_unlabeled_training.txt', 'w') as f:\n",
    "    for record in data_strings:\n",
    "        f.write(record + \"\\n\")  # Write each record on a new line\n",
    "\n",
    "print(\"Fake PII data generated and saved to fake_pii_data_unlabeled_training.txt.\")\n"
   ]
  },
  {
   "cell_type": "code",
   "execution_count": 3,
   "metadata": {},
   "outputs": [
    {
     "name": "stdout",
     "output_type": "stream",
     "text": [
      "Unstructured fake PII data generated and saved to fake_pii_data_very_dirty_training.txt.\n"
     ]
    }
   ],
   "source": [
    "import random\n",
    "from faker import Faker\n",
    "\n",
    "# Create a Faker instance\n",
    "fake = Faker()\n",
    "\n",
    "# Function to introduce randomness in data formatting and return as a string\n",
    "def randomize_data_string():\n",
    "    # Generate various pieces of data with randomness\n",
    "    name = random.choice([\n",
    "        fake.name(), fake.first_name(), fake.last_name(), fake.name().lower(), fake.first_name() + \" \"\n",
    "    ])\n",
    "    dob = random.choice([\n",
    "        fake.date_of_birth().strftime('%m/%d/%Y'), fake.date_of_birth().strftime('%Y-%m-%d'), \n",
    "        fake.date_of_birth().isoformat(), str(fake.date_of_birth().year)\n",
    "    ])\n",
    "    email = random.choice([\n",
    "        fake.email(), fake.user_name() + \"@\", fake.user_name() + \"@example.\"\n",
    "    ])\n",
    "    address = random.choice([\n",
    "        fake.address(), \" \".join(fake.address().split()[:3]) + \"...\", fake.street_name()\n",
    "    ])\n",
    "    phone = fake.phone_number() if random.random() > 0.2 else \"\"\n",
    "    ssn = fake.ssn() if random.random() > 0.1 else \"XXX-XX-\" + fake.ssn()[-4:]\n",
    "    job_title = fake.job() if random.random() > 0.3 else fake.job().upper()\n",
    "\n",
    "    # Combine the pieces into one string, separated by some delimiter (e.g., \", \")\n",
    "    return \", \".join([\n",
    "        name, address, email, phone, ssn, fake.license_plate(), fake.bothify(text='????########', letters='ABCDEFGHIJKLMNOPQRSTUVWXYZ'),\n",
    "        fake.credit_card_full(), fake.bban(), fake.company(), job_title, fake.user_name(),\n",
    "        fake.password(), fake.url(), dob, fake.text(max_nb_chars=20), fake.text(max_nb_chars=20),\n",
    "        f\"{fake.latitude()}, {fake.longitude()}\", fake.text(max_nb_chars=100), fake.isbn13()\n",
    "    ])\n",
    "\n",
    "# Generate multiple records\n",
    "num_records = 200  # Adjust the number of records as needed\n",
    "data_strings = [randomize_data_string() for _ in range(num_records)]\n",
    "\n",
    "# Output the data to a TXT file\n",
    "with open('/Users/dkim1998/Downloads/fake_pii_data_very_dirty_training.txt', 'w') as f:\n",
    "    for record in data_strings:\n",
    "        f.write(record + \"\\n\")  # Write each record on a new line\n",
    "\n",
    "print(\"Unstructured fake PII data generated and saved to fake_pii_data_very_dirty_training.txt.\")\n"
   ]
  },
  {
   "cell_type": "code",
   "execution_count": 2,
   "metadata": {},
   "outputs": [],
   "source": [
    "import pandas"
   ]
  }
 ],
 "metadata": {
  "kernelspec": {
   "display_name": "virtual_environment",
   "language": "python",
   "name": "python3"
  },
  "language_info": {
   "codemirror_mode": {
    "name": "ipython",
    "version": 3
   },
   "file_extension": ".py",
   "mimetype": "text/x-python",
   "name": "python",
   "nbconvert_exporter": "python",
   "pygments_lexer": "ipython3",
   "version": "3.11.4"
  }
 },
 "nbformat": 4,
 "nbformat_minor": 2
}
